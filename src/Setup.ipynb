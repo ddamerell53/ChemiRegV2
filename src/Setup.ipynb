{
 "cells": [
  {
   "cell_type": "code",
   "execution_count": 22,
   "metadata": {},
   "outputs": [
    {
     "data": {
      "text/html": [
       "<a target=\"_blank\" href=\"http://localhost:8888/edit/bin/hooks/chemiregconfig.py\">Click to set Email/DB Settings</a>"
      ],
      "text/plain": [
       "<IPython.core.display.HTML object>"
      ]
     },
     "metadata": {},
     "output_type": "display_data"
    }
   ],
   "source": [
    "from IPython.core.display import display, HTML\n",
    "display(HTML(\"\"\"<a target=\"_blank\" href=\"http://localhost:8888/edit/bin/hooks/chemiregconfig.py\">Click to set Email/DB Settings</a>\"\"\"))\n"
   ]
  },
  {
   "cell_type": "code",
   "execution_count": 2,
   "metadata": {
    "collapsed": true
   },
   "outputs": [],
   "source": [
    "# Configure administrator account\n",
    "from authenticate import AuthenticationManager\n",
    "manager = AuthenticationManager()\n",
    "manager.register_user('First Name','Last Name','Email Address','administrator','', 'internal', False)"
   ]
  },
  {
   "cell_type": "code",
   "execution_count": 3,
   "metadata": {},
   "outputs": [
    {
     "name": "stdout",
     "output_type": "stream",
     "text": [
      "Login with username testuser1 or testuser2 and the passwordasdasdq3245r24rf\n"
     ]
    }
   ],
   "source": [
    "# Install default users and projects\n",
    "s_p = 'asdasdq3245r24rf'\n",
    "manager.create_test_environment(s_p)\n",
    "print('Login with username testuser1 or testuser2 and the password' + s_p)"
   ]
  },
  {
   "cell_type": "code",
   "execution_count": null,
   "metadata": {
    "collapsed": true
   },
   "outputs": [],
   "source": []
  }
 ],
 "metadata": {
  "kernelspec": {
   "display_name": "Python 3",
   "language": "python",
   "name": "python3"
  },
  "language_info": {
   "codemirror_mode": {
    "name": "ipython",
    "version": 3
   },
   "file_extension": ".py",
   "mimetype": "text/x-python",
   "name": "python",
   "nbconvert_exporter": "python",
   "pygments_lexer": "ipython3",
   "version": "3.6.3"
  }
 },
 "nbformat": 4,
 "nbformat_minor": 2
}
