{
 "cells": [
  {
   "cell_type": "code",
   "execution_count": 3,
   "metadata": {},
   "outputs": [
    {
     "name": "stdout",
     "output_type": "stream",
     "text": [
      "Connecting to http://localhost:80/login\n",
      "Got results\n",
      "{'ready': True, 'error': None, 'objects': {'-1': {'id': 30, 'project_name': 'Test/Supplier List', 'compound_id': 'TestAA', 'username': 'administrator', 'date_record_created': 1513947013.79857, 'batchable': 'false', 'attachments': []}, '-2': {'id': 31, 'project_name': 'Test/Supplier List', 'compound_id': 'TestBB', 'username': 'administrator', 'date_record_created': 1513947013.79857, 'batchable': 'false', 'attachments': []}}}\n"
     ]
    }
   ],
   "source": [
    "from chemireg import ChemiReg\n",
    "client = None\n",
    "try:\n",
    "    client = ChemiReg('http://localhost', 80, 'administrator', '')\n",
    "    client.connect()\n",
    "\n",
    "    changes = [\n",
    "        {\n",
    "            'compound_id': 'TestAA'\n",
    "        },\n",
    "        {\n",
    "            'compound_id': 'TestBB'\n",
    "        }\n",
    "    ]\n",
    "\n",
    "    query = client.save_changes(changes, 'Test/Supplier List')\n",
    "    print(query)\n",
    "finally:\n",
    "    if client is not None:\n",
    "        client.close()"
   ]
  },
  {
   "cell_type": "code",
   "execution_count": null,
   "metadata": {
    "collapsed": true
   },
   "outputs": [],
   "source": []
  }
 ],
 "metadata": {
  "kernelspec": {
   "display_name": "Python 3",
   "language": "python",
   "name": "python3"
  },
  "language_info": {
   "codemirror_mode": {
    "name": "ipython",
    "version": 3
   },
   "file_extension": ".py",
   "mimetype": "text/x-python",
   "name": "python",
   "nbconvert_exporter": "python",
   "pygments_lexer": "ipython3",
   "version": "3.6.3"
  }
 },
 "nbformat": 4,
 "nbformat_minor": 2
}
